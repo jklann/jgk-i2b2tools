{
 "cells": [
  {
   "cell_type": "code",
   "execution_count": 1,
   "metadata": {},
   "outputs": [
    {
     "data": {
      "text/plain": [
       "\"\\nIntended to be used with this SQL statement output to ClemLabRequest:\\nselect distinct isnull(nc.c_name,m.c_name),m.c_basecode,c_loinc,m.C_METADATAXML from i2b2metadata  m left outer join RPDR_Labtests l on l.c_basecode=m.C_BASECODE\\n left outer join PCORI_Dev..NCBO_LOINC_2014AB nc on nc.C_BASECODE='LOINC:'+c_loinc\\n where m.c_fullname like '\\\\i2b2metadata\\\\LabTests%' and c_loinc is not null and c_loinc!='' and m.C_SYNONYM_CD='N' and nc.C_SYNONYM_CD='N' and l.c_synonym_cd='N'\\n \\n\""
      ]
     },
     "execution_count": 1,
     "metadata": {},
     "output_type": "execute_result"
    }
   ],
   "source": [
    "\"\"\"\n",
    "Parse value sets from i2b2 metadataxml. Tested only for a specific request that was fulfilled in early 2018.\n",
    "Scrubs dates and excludes excessively long numbers, which crept into our data but were PHI.\n",
    "by Jeff Klann, PhD 2-2018\n",
    "\n",
    "Intended to be used with this SQL statement output to ClemLabRequest:\n",
    "select distinct isnull(nc.c_name,m.c_name),m.c_basecode,c_loinc,m.C_METADATAXML from i2b2metadata  m left outer join RPDR_Labtests l on l.c_basecode=m.C_BASECODE\n",
    " left outer join PCORI_Dev..NCBO_LOINC_2014AB nc on nc.C_BASECODE='LOINC:'+c_loinc\n",
    " where m.c_fullname like '\\i2b2metadata\\LabTests%' and c_loinc is not null and c_loinc!='' and m.C_SYNONYM_CD='N' and nc.C_SYNONYM_CD='N' and l.c_synonym_cd='N'\n",
    " \n",
    "\"\"\""
   ]
  },
  {
   "cell_type": "code",
   "execution_count": 2,
   "metadata": {
    "collapsed": true
   },
   "outputs": [],
   "source": [
    "# conda install -c conda-forge xmltodict\n",
    "import xmltodict\n",
    "import csv\n",
    "from tqdm import tqdm,tnrange, tqdm_notebook\n",
    "import collections as c\n",
    "import inspect, re \n",
    "import dateutil.parser as dateparse\n"
   ]
  },
  {
   "cell_type": "code",
   "execution_count": null,
   "metadata": {
    "collapsed": true
   },
   "outputs": [],
   "source": []
  },
  {
   "cell_type": "code",
   "execution_count": 9,
   "metadata": {},
   "outputs": [
    {
     "name": "stderr",
     "output_type": "stream",
     "text": [
      "41357it [00:18, 2294.96it/s]"
     ]
    },
    {
     "name": "stdout",
     "output_type": "stream",
     "text": [
      "8909,5626\n"
     ]
    },
    {
     "name": "stderr",
     "output_type": "stream",
     "text": [
      "\n"
     ]
    }
   ],
   "source": [
    "cnt_e = 0 \n",
    "cnt_o = 0\n",
    "out=open('/Users/jeffklann/Dropbox (Partners HealthCare)/HMS/Projects/Clem/ClemOut.csv', 'w', newline='')\n",
    "outwriter=csv.writer(out, delimiter=',',quotechar='\"', quoting=csv.QUOTE_MINIMAL)\n",
    "# Write header row\n",
    "outval=['c_name','i_loinc','value_count','num_dt']\n",
    "outval=outval+['v'+str(e) for e in range(70)]\n",
    "outwriter.writerow(outval)\n",
    "with open('/Users/jeffklann/Dropbox (Partners HealthCare)/HMS/Projects/Clem/ClemLabRequest.csv', newline='') as csvfile:\n",
    "    spamreader = csv.reader(csvfile, delimiter=',', quotechar='\"')\n",
    "    next(spamreader)\n",
    "    for row in tqdm(spamreader):\n",
    "        if row[3]!=\"\":\n",
    "            #print(row[2][21:])\n",
    "            doc = xmltodict.parse(row[3][21:])\n",
    "            #print(doc.keys())\n",
    "            #print(doc['ValueMetadata'].keys())\n",
    "            if(doc['ValueMetadata']['DataType']==None): continue\n",
    "            if(doc['ValueMetadata']['DataType']!='Enum'): continue\n",
    "            if('Val' not in doc['ValueMetadata']['EnumValues'].keys()): continue\n",
    "            cnt_e=cnt_e+1\n",
    "            enum=doc['ValueMetadata']['EnumValues']['Val']\n",
    "            vset=[]\n",
    "            if(enum==None): continue\n",
    "            try:\n",
    "                for e in enum:\n",
    "                    if isinstance(e,c.OrderedDict):\n",
    "                        if (e['@description']!='') and (e['@description']!=e['#text']):\n",
    "                            v = e['@description']+\":\"+e['#text']\n",
    "                        else:\n",
    "                            v = e['#text']\n",
    "                        vset.append(v)\n",
    "            except:\n",
    "                print(\"ERR in: \"+str(enum)+\", signal\"+str(row[3]))\n",
    "                continue\n",
    "            if len(vset)>0:\n",
    "                cnt_num=0\n",
    "                cnt_o=cnt_o+1\n",
    "                # Detect long numbers and scrub dates\n",
    "                # Note: slower approach than converting vset to a single string bc we want to modify original\n",
    "                for i,v in enumerate(vset):\n",
    "                    m=re.findall(\"[0-9\\-/]+\",v)\n",
    "                    for mr in m:\n",
    "                        # Count num of long strings\n",
    "                        if len (mr)>5 and mr[-2:-1]!='-': cnt_num=cnt_num+1 \n",
    "                        # Remove dates\n",
    "                        if mr.count('/')==2 or mr.count('-')==2 and len(mr)>5: \n",
    "                            try:\n",
    "                                dateparse.parse(mr)\n",
    "                                vset[i]=v.replace(mr,'mmddyy')\n",
    "                            except Exception as ex:\n",
    "                                None   \n",
    "            \n",
    "                if cnt_num<=5 and len(vset)<=70: # Exclude rows with >5 long numbers or >70 total values\n",
    "                    outval=[row[0],row[2],len(vset),cnt_num]+vset\n",
    "                    outwriter.writerow(outval)\n",
    "    out.close()\n",
    "                    \n",
    "print(str(cnt_e)+','+str(cnt_o))"
   ]
  },
  {
   "cell_type": "code",
   "execution_count": null,
   "metadata": {
    "collapsed": true
   },
   "outputs": [],
   "source": []
  }
 ],
 "metadata": {
  "kernelspec": {
   "display_name": "Python 3",
   "language": "python",
   "name": "python3"
  },
  "language_info": {
   "codemirror_mode": {
    "name": "ipython",
    "version": 3
   },
   "file_extension": ".py",
   "mimetype": "text/x-python",
   "name": "python",
   "nbconvert_exporter": "python",
   "pygments_lexer": "ipython3",
   "version": "3.5.3"
  }
 },
 "nbformat": 4,
 "nbformat_minor": 2
}
